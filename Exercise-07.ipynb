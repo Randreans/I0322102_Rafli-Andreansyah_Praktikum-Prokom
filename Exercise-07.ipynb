{
 "cells": [
  {
   "cell_type": "code",
   "execution_count": 90,
   "metadata": {},
   "outputs": [
    {
     "name": "stdout",
     "output_type": "stream",
     "text": [
      "[[1 2]\n",
      " [3 4]]\n"
     ]
    }
   ],
   "source": [
    "#Buatlah sebuah fungsi untuk membuat matrix berdasarkan input dari user\n",
    "\n",
    "def create_matrix(baris,kolom):\n",
    "    global matrix\n",
    "    matrix = []\n",
    "\n",
    "    #Tulis kode kamu disini\n",
    "    for i in range(baris):\n",
    "        matrix.append([])\n",
    "        for j in range(kolom):\n",
    "            matrix[i].append(int(input(\"Masukkan elemen matrix\")))\n",
    "    \n",
    "    return matrix\n",
    "\n",
    "\n",
    "baris = int(input('Masukkan Jumlah Baris:\\t'))\n",
    "kolom = int(input('Masukkan Jumlah Kolom:\\t'))\n",
    "import numpy\n",
    "print(numpy.array(create_matrix(baris,kolom)))"
   ]
  },
  {
   "cell_type": "code",
   "execution_count": 75,
   "metadata": {},
   "outputs": [
    {
     "name": "stdout",
     "output_type": "stream",
     "text": [
      "-2.0000000000000004\n"
     ]
    }
   ],
   "source": [
    "#Buatlah sebuah fungsi untuk mencari determinan matrix berdasarkan input matrix dari user\n",
    "\n",
    "def determinan():\n",
    "    global det\n",
    "    det = []\n",
    "    #Tulis kode kamu disini\n",
    "    baris = int(input('Masukkan Jumlah Baris:\\t'))\n",
    "    kolom = int(input('Masukkan Jumlah Kolom:\\t'))\n",
    "    global a\n",
    "    a = numpy.array(create_matrix(baris, kolom))\n",
    "    \n",
    "    det = numpy.linalg.det(a)\n",
    "    return det\n",
    "print(determinan())"
   ]
  },
  {
   "cell_type": "code",
   "execution_count": null,
   "metadata": {},
   "outputs": [],
   "source": [
    "#Buatlah fungsi untuk mengakalikan dua buah matrix berdasarkan input user menggunakan nested loop\n",
    "import numpy\n",
    "def create_matrix1(baris1,kolom1):\n",
    "    global matrix1\n",
    "    matrix1 = []\n",
    "\n",
    "    for i in range(baris1):\n",
    "        matrix1.append([])\n",
    "        for j in range(kolom1):\n",
    "            matrix1[i].append(int(input(\"Masukkan elemen matrix1\")))\n",
    "    \n",
    "    return matrix1\n",
    "baris1 = int(input('Masukkan Jumlah Baris1:\\t'))\n",
    "kolom1 = int(input('Masukkan Jumlah Kolom1:\\t'))\n",
    "print(create_matrix(baris1,kolom1))\n",
    "\n",
    "def create_matrix2(baris2,kolom2):\n",
    "    global matrix2\n",
    "    matrix2 = []\n",
    "\n",
    "    for i in range(baris2):\n",
    "        matrix2.append([])\n",
    "        for j in range(kolom2):\n",
    "            matrix2[i].append(int(input(\"Masukkan elemen matrix2\")))\n",
    "    \n",
    "    return matrix2\n",
    "baris2 = int(input('Masukkan Jumlah Baris2:\\t'))\n",
    "kolom2 = int(input('Masukkan Jumlah Kolom2:\\t'))\n",
    "print(create_matrix(baris2,kolom2))\n",
    "\n",
    "def multiply_matrix(matrix1, matrix2):\n",
    "    result=[[0 for j in range (len(matrix2[0]))]for i in range(len(matrix1))]\n",
    "\n",
    "    #Tulis kode kamu disini\n",
    "    for i in range(len(matrix1)):\n",
    "        for j in range(len(matrix2[0])):\n",
    "            for k in range(0, len(matrix2)):\n",
    "                result[i][j] += matrix1[i][k]*matrix2[k][j]\n",
    "    for r in result:\n",
    "        print(r)\n",
    "    return result\n",
    "multiply_matrix(matrix1, matrix2)"
   ]
  }
 ],
 "metadata": {
  "kernelspec": {
   "display_name": "Python 3",
   "language": "python",
   "name": "python3"
  },
  "language_info": {
   "codemirror_mode": {
    "name": "ipython",
    "version": 3
   },
   "file_extension": ".py",
   "mimetype": "text/x-python",
   "name": "python",
   "nbconvert_exporter": "python",
   "pygments_lexer": "ipython3",
   "version": "3.10.8"
  },
  "orig_nbformat": 4
 },
 "nbformat": 4,
 "nbformat_minor": 2
}
