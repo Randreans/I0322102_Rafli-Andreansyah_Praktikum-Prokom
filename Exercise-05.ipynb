{
 "cells": [
  {
   "attachments": {},
   "cell_type": "markdown",
   "metadata": {},
   "source": [
    "1. Buatlah program untuk menghitung pangkat 2 dari angka 1 hingga 50!"
   ]
  },
  {
   "cell_type": "code",
   "execution_count": 1,
   "metadata": {},
   "outputs": [
    {
     "name": "stdout",
     "output_type": "stream",
     "text": [
      "1 ^2 = 1\n",
      "2 ^2 = 4\n",
      "3 ^2 = 9\n",
      "4 ^2 = 16\n",
      "5 ^2 = 25\n",
      "6 ^2 = 36\n",
      "7 ^2 = 49\n",
      "8 ^2 = 64\n",
      "9 ^2 = 81\n",
      "10 ^2 = 100\n",
      "11 ^2 = 121\n",
      "12 ^2 = 144\n",
      "13 ^2 = 169\n",
      "14 ^2 = 196\n",
      "15 ^2 = 225\n",
      "16 ^2 = 256\n",
      "17 ^2 = 289\n",
      "18 ^2 = 324\n",
      "19 ^2 = 361\n",
      "20 ^2 = 400\n",
      "21 ^2 = 441\n",
      "22 ^2 = 484\n",
      "23 ^2 = 529\n",
      "24 ^2 = 576\n",
      "25 ^2 = 625\n",
      "26 ^2 = 676\n",
      "27 ^2 = 729\n",
      "28 ^2 = 784\n",
      "29 ^2 = 841\n",
      "30 ^2 = 900\n",
      "31 ^2 = 961\n",
      "32 ^2 = 1024\n",
      "33 ^2 = 1089\n",
      "34 ^2 = 1156\n",
      "35 ^2 = 1225\n",
      "36 ^2 = 1296\n",
      "37 ^2 = 1369\n",
      "38 ^2 = 1444\n",
      "39 ^2 = 1521\n",
      "40 ^2 = 1600\n",
      "41 ^2 = 1681\n",
      "42 ^2 = 1764\n",
      "43 ^2 = 1849\n",
      "44 ^2 = 1936\n",
      "45 ^2 = 2025\n",
      "46 ^2 = 2116\n",
      "47 ^2 = 2209\n",
      "48 ^2 = 2304\n",
      "49 ^2 = 2401\n",
      "50 ^2 = 2500\n"
     ]
    }
   ],
   "source": [
    "# Kerjakan nomor 1 di sini\n",
    "for i in range (1,51):\n",
    "    print(i,\"^2 =\", i**2)"
   ]
  },
  {
   "attachments": {},
   "cell_type": "markdown",
   "metadata": {},
   "source": [
    "2. Buatlah sebuah list yang berisi daftar nama mahasiswa angkatan kalian minimal sejumlah 10 nama. Kemudian buat program pencarian menggunakan pengulangan, di mana apabila nama yang user inputkan sudah sesuai dengan isi list maka program akan berhenti dan menampilkan output \"Pencarian anda sudah berakhir\""
   ]
  },
  {
   "attachments": {},
   "cell_type": "markdown",
   "metadata": {},
   "source": [
    "catatan: perhatikan user dapat menginputkan menggunakan baik huruf kapital maupun tidak"
   ]
  },
  {
   "cell_type": "code",
   "execution_count": 10,
   "metadata": {},
   "outputs": [
    {
     "name": "stdout",
     "output_type": "stream",
     "text": [
      "Nama belum ditemukan\n",
      "Nama belum ditemukan\n",
      "Nama belum ditemukan\n",
      "Pencarian anda sudah berakhir, nama ditemukan\n"
     ]
    }
   ],
   "source": [
    "# Kerjakan nomor 2 di sini\n",
    "mahasiswa = [\"Pepen\", \"Ilham\", \"Daffa\", \"Bowo\", \"Suma\", \"Rafi\", \"Dela\", \"Akila\", \"Irvi\", \"Julie\", \"Luqman\", \"Syauqi\", \"Abid\", \"Ariq\", \"Rafif\", \"Helmi\", \"Wahyu\", \"Fia\", \"Yulia\", \"Vincent\", \"Tristan\", \"Dani\"]\n",
    "cari_nama = str(input(\"Masukkan nama mahasiswa Imperiale\")).lower()\n",
    "for i in mahasiswa:\n",
    "    nama_mahasiswa = i.lower()\n",
    "    if cari_nama == nama_mahasiswa:\n",
    "        print(\"Pencarian anda sudah berakhir, nama ditemukan\")\n",
    "        break\n",
    "    else:\n",
    "        print(\"Nama belum ditemukan\")"
   ]
  },
  {
   "attachments": {},
   "cell_type": "markdown",
   "metadata": {},
   "source": [
    "3. Disajikan list sebagai berikut "
   ]
  },
  {
   "cell_type": "code",
   "execution_count": null,
   "metadata": {},
   "outputs": [],
   "source": [
    "bulan = ['januari', 'februari', 'maret', 'april','mei','juni','juli','agustus','september','oktober','november','desember']\n",
    "kota = ['jakarta' , 'kuala lumpur', 'bangkok', 'seoul', 'canada','london','dubai','barcelona']"
   ]
  },
  {
   "attachments": {},
   "cell_type": "markdown",
   "metadata": {},
   "source": [
    "Robert adalah seorang penyanyi terkenal. Dia merencanakan konser world tour di tahun 2024 mendatang di berbagai negara. Dengan catatan pada bulan April dan Mei, Robert kembali ke indonesia untuk istirahat sejenak kemudian melanjutkan lagi konser. Berdasarkan kasus tersebut buatlah program pengulangannya!"
   ]
  },
  {
   "cell_type": "code",
   "execution_count": 3,
   "metadata": {},
   "outputs": [
    {
     "name": "stdout",
     "output_type": "stream",
     "text": [
      "Jadwal Konser World Tour Robert =\n",
      "Bulan  Januari Robert akan konser di Kota Jakarta\n",
      "Bulan  Februari Robert akan konser di Kota Kuala lumpur\n",
      "Bulan  Maret Robert akan konser di Kota Bangkok\n",
      "Bulan  April Robert istirahat dan pulang ke Indonesia\n",
      "Bulan  Mei Robert istirahat dan pulang ke Indonesia\n",
      "Bulan  Juni Robert akan konser di Kota Seoul\n",
      "Bulan  Juli Robert akan konser di Kota Canada\n",
      "Bulan  Agustus Robert akan konser di Kota London\n",
      "Bulan  September Robert akan konser di Kota Dubai\n",
      "Bulan  Oktober Robert akan konser di Kota Barcelona\n",
      "Bulan  November Robert akan konser di Kota Dubai\n",
      "Bulan  Desember Robert akan konser di Kota Barcelona\n"
     ]
    }
   ],
   "source": [
    "# kerjakan nomor 3 di sini\n",
    "bulan = ['januari', 'februari', 'maret', 'april','mei','juni','juli','agustus','september','oktober','november','desember']\n",
    "kota = ['jakarta' , 'kuala lumpur', 'bangkok', 'seoul', 'canada','london','dubai','barcelona']\n",
    "indeks = 0\n",
    "print(\"Jadwal Konser World Tour Robert =\")\n",
    "for i in bulan:\n",
    "    if i in [\"april\", \"mei\"]:\n",
    "        print (\"Bulan \", i.capitalize(), \"Robert istirahat dan pulang ke Indonesia\")\n",
    "        continue\n",
    "    print (\"Bulan \", i.capitalize(), \"Robert akan konser di Kota\", kota[indeks].capitalize())\n",
    "    indeks += 1\n",
    "    if indeks == 8:\n",
    "        import random\n",
    "        indeks = random.randrange(0,8)"
   ]
  }
 ],
 "metadata": {
  "kernelspec": {
   "display_name": "Python 3",
   "language": "python",
   "name": "python3"
  },
  "language_info": {
   "codemirror_mode": {
    "name": "ipython",
    "version": 3
   },
   "file_extension": ".py",
   "mimetype": "text/x-python",
   "name": "python",
   "nbconvert_exporter": "python",
   "pygments_lexer": "ipython3",
   "version": "3.10.8"
  },
  "orig_nbformat": 4
 },
 "nbformat": 4,
 "nbformat_minor": 2
}
