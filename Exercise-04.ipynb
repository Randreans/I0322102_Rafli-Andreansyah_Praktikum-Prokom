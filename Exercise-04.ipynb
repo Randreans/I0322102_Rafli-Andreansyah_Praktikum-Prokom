{
 "cells": [
  {
   "cell_type": "code",
   "execution_count": 1,
   "metadata": {},
   "outputs": [
    {
     "name": "stdout",
     "output_type": "stream",
     "text": [
      "Rafli Andreansyah\n",
      "I0322102\n",
      "C\n"
     ]
    }
   ],
   "source": [
    "print(input(\"Nama: \"))\n",
    "print(input(\"NIM: \"))\n",
    "print(input(\"Kelas: \"))"
   ]
  },
  {
   "attachments": {},
   "cell_type": "markdown",
   "metadata": {},
   "source": [
    "## 1."
   ]
  },
  {
   "attachments": {},
   "cell_type": "markdown",
   "metadata": {},
   "source": [
    "Buatlah program yang menampilkan tarif pajak yang harus dibayarkan oleh user dengan input yaitu nama user dan pendapatan dari user.<br>\n",
    "Dengan ketentuan sebagai berikut:\n",
    "* Jika pendapatan kurang dari atau sama dengan 10 juta, maka tarif pajak adalah 2,5%\n",
    "* Jika pendapatan kurang dari atau sama dengan 20 juta, maka tarif pajak adalah 5%\n",
    "* Jika pendapatan kurang dari atau sama dengan 50 juta, maka tarif pajak adalah 10%.\n",
    "* Jika pendapatan lebih dari 50 juta, maka tarif pajak adalah 12,5%.\n",
    "> *note: Kerjakan soal ini dengan percabangan*"
   ]
  },
  {
   "cell_type": "code",
   "execution_count": 6,
   "metadata": {},
   "outputs": [
    {
     "name": "stdout",
     "output_type": "stream",
     "text": [
      "Nama = Rafli\n",
      "Pendapatan = Rp 100000000.0\n",
      "Tarif pajak Anda sebesar 12,5%\n",
      "Nominal pajak pendapatan yang harus Anda bayar sejumlah Rp 12500000.0\n"
     ]
    }
   ],
   "source": [
    "# Kerjakan soal no 1 di sini\n",
    "\n",
    "nama = str(input(\"Masukkan nama Anda\"))\n",
    "Pendapatan = float(input(\"Masukkan nominal pendapatan Anda\"))\n",
    "if Pendapatan <= 10000000:\n",
    "    Tarif_pajak = Pendapatan * 1/40\n",
    "    print(\"Nama =\",nama)\n",
    "    print(\"Pendapatan = Rp\", Pendapatan)\n",
    "    print(\"Tarif pajak Anda sebesar 2,5%\")\n",
    "    print(\"Nominal pajak pendapatan yang harus Anda bayar sejumlah Rp\", Tarif_pajak)\n",
    "elif Pendapatan <= 20000000:\n",
    "    Tarif_pajak = Pendapatan * 1/20\n",
    "    print(\"Nama =\",nama)\n",
    "    print(\"Pendapatan = Rp\", Pendapatan)\n",
    "    print(\"Tarif pajak Anda sebesar 5%\")\n",
    "    print(\"Nominal pajak pendapatan yang harus Anda bayar sejumlah Rp\", Tarif_pajak)\n",
    "elif Pendapatan <= 50000000:\n",
    "    Tarif_pajak = Pendapatan * 1/10\n",
    "    print(\"Nama =\",nama)\n",
    "    print(\"Pendapatan = Rp\", Pendapatan)\n",
    "    print(\"Tarif pajak Anda sebesar 10%\")\n",
    "    print(\"Nominal pajak pendapatan yang harus Anda bayar sejumlah Rp\", Tarif_pajak)\n",
    "else:\n",
    "    Tarif_pajak = Pendapatan * 1/8\n",
    "    print(\"Nama =\", nama)\n",
    "    print(\"Pendapatan = Rp\", Pendapatan)\n",
    "    print(\"Tarif pajak Anda sebesar 12,5%\")\n",
    "    print(\"Nominal pajak pendapatan yang harus Anda bayar sejumlah Rp\", Tarif_pajak)\n",
    "    "
   ]
  },
  {
   "attachments": {},
   "cell_type": "markdown",
   "metadata": {},
   "source": [
    "## 2."
   ]
  },
  {
   "attachments": {},
   "cell_type": "markdown",
   "metadata": {},
   "source": [
    "Buatlah program yang menampilkan akan melakukan validasi apakah mahasiswa tersebut berasal dari TI UNS berdasarkan NIM yang diinput oleh user:\n",
    "<br>Dengan ketentuan sebagai berikut:\n",
    "* NIM mahasiswa TI harus dimulai dengan \"I03\" dengan total panjang 8 karakter (I0320078 adalah contoh NIM mahasiswa TI UNS)\n",
    "* Program akan menampilkan pesan \"NIM mahasiswa TI UNS\" jika NIM yang dimasukkan sesuai dengan format yang dijelaskan di atas, dan akan menampilkan pesan \"NIM Anda tidak valid\" jika tidak sesuai.\n",
    "> *note: Kerjakan soal ini dengan percabangan*"
   ]
  },
  {
   "cell_type": "code",
   "execution_count": 7,
   "metadata": {},
   "outputs": [
    {
     "name": "stdout",
     "output_type": "stream",
     "text": [
      "NIM = I0322102\n",
      "NIM Mahasiswa TI UNS\n"
     ]
    }
   ],
   "source": [
    "# Kerjakan soal no 2 di sini\n",
    "nim = input(\"Masukkan NIM Anda\")\n",
    "if len(nim)==8 and nim[0:3] == \"I03\":\n",
    "    print(\"NIM =\", nim)\n",
    "    print(\"NIM Mahasiswa TI UNS\")\n",
    "else:\n",
    "    print(\"NIM =\", nim)\n",
    "    print(\"NIM Anda tidak valid\")"
   ]
  }
 ],
 "metadata": {
  "kernelspec": {
   "display_name": "Python 3",
   "language": "python",
   "name": "python3"
  },
  "language_info": {
   "codemirror_mode": {
    "name": "ipython",
    "version": 3
   },
   "file_extension": ".py",
   "mimetype": "text/x-python",
   "name": "python",
   "nbconvert_exporter": "python",
   "pygments_lexer": "ipython3",
   "version": "3.10.8"
  },
  "orig_nbformat": 4
 },
 "nbformat": 4,
 "nbformat_minor": 2
}
