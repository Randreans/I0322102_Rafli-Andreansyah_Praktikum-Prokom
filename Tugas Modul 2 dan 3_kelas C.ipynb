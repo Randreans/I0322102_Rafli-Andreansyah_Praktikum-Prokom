{
 "cells": [
  {
   "cell_type": "code",
   "execution_count": 1,
   "metadata": {},
   "outputs": [
    {
     "name": "stdout",
     "output_type": "stream",
     "text": [
      "Rafli Andreansyah\n",
      "I0322102\n",
      "C\n"
     ]
    }
   ],
   "source": [
    "print(input(\"Nama: \"))\n",
    "print(input(\"NIM: \"))\n",
    "print(input(\"Kelas: \"))"
   ]
  },
  {
   "attachments": {},
   "cell_type": "markdown",
   "metadata": {},
   "source": [
    "## 1."
   ]
  },
  {
   "attachments": {},
   "cell_type": "markdown",
   "metadata": {},
   "source": [
    "buatlah program sederhana untuk:\n",
    "* **A** mencari massa jika diketahui nilai energi potensial, percepatan gravitasi, dan ketinggian benda! beserta rumus nya!\n",
    "* **B** mencari gaya apung jika diketahui massa jenis, tinggi, panjang, dan lebar benda serta percepatan gravitasi dan contohnya! beserta rumus nya!\n",
    "* **C** Tulis program Python untuk menghitung luas dari segi lima sama sisi!\n",
    "\n",
    "> *note* : rumus, contoh, dan nilai dari tiap variabel ditentukan oleh kalian sendiri dan gunakan satuan baku (SI) untuk menghitung nilai dari tiap variabel"
   ]
  },
  {
   "cell_type": "code",
   "execution_count": 5,
   "metadata": {},
   "outputs": [
    {
     "name": "stdout",
     "output_type": "stream",
     "text": [
      "Diketahui =\n",
      "Energi Potensial (Ep) =  40.0 J\n",
      "Percepatan gravitasi(g) =  10.0 m/s^2\n",
      "Ketinggian benda (h) =  2.0 m\n",
      "Ditanya = massa benda (m)\n",
      "Jawab =\n",
      "m = Ep / (g * h)\n",
      "m = 40.0 J / ( 10.0 m/s^2 * 2.0 m )\n",
      "m = 2.0 kg\n"
     ]
    }
   ],
   "source": [
    "# A. Mencari Massa Benda dari Energi Potensial, Percepatan Gravitasi, dan Ketinggian benda\n",
    "Energi_Potensial = float(input(\"Masukkan nilai energi potensial (Ep) = \"))\n",
    "Percepatan_Gravitasi = float(input(\"Masukkan nilai percepatan gravitasi (g)= \"))\n",
    "Ketinggian_Benda = float(input(\"Masukkan nilai ketinggian benda (h)=\"))\n",
    "Massa_Benda = Energi_Potensial / (Percepatan_Gravitasi * Ketinggian_Benda)\n",
    "\n",
    "print(\"Diketahui =\")\n",
    "print(\"Energi Potensial (Ep) = \", Energi_Potensial, \"J\")\n",
    "print(\"Percepatan gravitasi(g) = \", Percepatan_Gravitasi, \"m/s^2\")\n",
    "print(\"Ketinggian benda (h) = \", Ketinggian_Benda, \"m\")\n",
    "print(\"Ditanya = massa benda (m)\")\n",
    "print(\"Jawab =\")\n",
    "print(\"m = Ep / (g * h)\")\n",
    "print(\"m =\",Energi_Potensial,\"J\", \"/\", \"(\",Percepatan_Gravitasi, \"m/s^2\", \"*\", Ketinggian_Benda,\"m\",\")\")\n",
    "print(\"m =\",Massa_Benda, \"kg\")"
   ]
  },
  {
   "cell_type": "code",
   "execution_count": 3,
   "metadata": {},
   "outputs": [
    {
     "name": "stdout",
     "output_type": "stream",
     "text": [
      "Diketahui =\n",
      "Massa Jenis Benda =  100.0 kg/m^3\n",
      "Tinggi Benda (t) =  4.0 m\n",
      "Panjang Benda (p) =  5.0 m\n",
      "Lebar Benda (l) = 2.0 m\n",
      "Percepatan Gravitasi (g) =  10.0 m/s^2\n",
      "Ditanya = gaya apung (Fa) \n",
      "Jawab =\n",
      "Fa = massa jenis * g * V\n",
      "Fa = massa jenis * g * t * p * l\n",
      "Fa = 100.0 kg/m^3 * 10.0 m/s^2 * 4.0 m * 5.0 m * 2.0 m\n",
      "Fa = 40000.0 N\n"
     ]
    }
   ],
   "source": [
    "# B. Mencari Gaya Apung dari massa jenis, tinggi, panjang, dan lebar benda serta percepatan gravitasi dan contohnya\n",
    "Massa_Jenis = float(input(\"Masukkan massa jenis benda = \"))\n",
    "Tinggi_Benda = float(input(\"Masukkan tinggi benda = \"))\n",
    "Panjang_Benda = float(input(\"Masukkan panjang benda = \"))\n",
    "Lebar_Benda = float(input(\"Masukkan lebar benda = \"))\n",
    "Percepatan_Gravitasi_tempat = float(input(\"Masukkan percepatan gravitasi = \"))\n",
    "\n",
    "print(\"Diketahui =\")\n",
    "print(\"Massa Jenis Benda = \", Massa_Jenis, \"kg/m^3\")\n",
    "print(\"Tinggi Benda (t) = \", Tinggi_Benda, \"m\")\n",
    "print(\"Panjang Benda (p) = \", Panjang_Benda, \"m\")\n",
    "print(\"Lebar Benda (l) =\", Lebar_Benda, \"m\")\n",
    "print(\"Percepatan Gravitasi (g) = \", Percepatan_Gravitasi_tempat, \"m/s^2\")\n",
    "print(\"Ditanya = gaya apung (Fa) \")\n",
    "print(\"Jawab =\")\n",
    "print(\"Fa = massa jenis * g * V\")\n",
    "print(\"Fa = massa jenis * g * t * p * l\")\n",
    "print(\"Fa =\",Massa_Jenis,\"kg/m^3\", \"*\", Percepatan_Gravitasi_tempat, \"m/s^2\",\"*\", Tinggi_Benda, \"m\", \"*\", Panjang_Benda, \"m\",\"*\",Lebar_Benda,\"m\")\n",
    "print(\"Fa =\", Massa_Jenis * Percepatan_Gravitasi_tempat * Tinggi_Benda * Panjang_Benda * Lebar_Benda, \"N\")"
   ]
  },
  {
   "cell_type": "code",
   "execution_count": 17,
   "metadata": {},
   "outputs": [
    {
     "name": "stdout",
     "output_type": "stream",
     "text": [
      "Sisi (s) =  10.0 m\n",
      "Luas Segilima =  (1/4) * (sqrt(5) * (5+2*sqrt5)) * (s**2)\n",
      "Luas Segilima =  529.5084971874737 m^2\n"
     ]
    }
   ],
   "source": [
    "# C. Menghitung Luas Segi Lima sama sisi\n",
    "import math\n",
    "Panjang_Sisi = float(input(\"Masukkan panjang sisi segilima sama sisi\"))\n",
    "print(\"Sisi (s) = \", Panjang_Sisi, \"m\")\n",
    "print(\"Luas Segilima = \", \"(1/4) * (sqrt(5) * (5+2*sqrt5)) * (s**2)\")\n",
    "print(\"Luas Segilima = \", 1/4 * (math.sqrt(5)*(5+2*math.sqrt(5))) * (Panjang_Sisi ** 2), \"m^2\" )"
   ]
  },
  {
   "attachments": {},
   "cell_type": "markdown",
   "metadata": {},
   "source": [
    "## 2."
   ]
  },
  {
   "attachments": {},
   "cell_type": "markdown",
   "metadata": {},
   "source": [
    "Taman bermain ANCOL memiliki berbagai wahana, salah satunya adalah bianglala. Harga tiket yang dijual berbeda tergantung dengan kategori nya. Harga tiket bagi orang dewasa atau yang berumur lebih dari 17 tahun adalah Rp 110.000 , harga tiket untuk anak-anak usia 6-16 tahun adalah Rp. 75.000 , sedangkan untuk usia dibawahnya tidak dikenakan biaya. Pada wahana bianglala sedang ada \"Promo RAMADHAN\" sebesar 20% bagi pembelian tiket lebih dari 2 pcs.\n",
    "\n",
    "Keluarga Anya Forger ingin menaiki wahana bianglala tersebut, Anya (usia 18 tahun) pergi bersama ayah dan ibunya beserta dua adiknya, Harry (usia 8 tahun) dan Taylor (usia 4 tahun). \n",
    "\n",
    "> Buatlah program sederhana untuk menghitung harga total dari pembelian tiket  oleh keluarga Anya dan harga tiket setelah mendapatkan diskon"
   ]
  },
  {
   "cell_type": "code",
   "execution_count": 26,
   "metadata": {},
   "outputs": [
    {
     "name": "stdout",
     "output_type": "stream",
     "text": [
      "Anda Mendapat Diskon Promo RAMADHAN\n",
      "Jumlah harga tiket masuk anda = Rp 324000.0\n"
     ]
    }
   ],
   "source": [
    "# x lebih dari 17 tahun\n",
    "# y = 6-16 tahun\n",
    "# z kurang dari 6 tahun\n",
    "x = int(input(\"Berapa jumlah orang yang berusia lebih dari 17 tahun?\"))\n",
    "y = int(input(\"Berapa jumlah orang yang berusia antara 6-16 tahun?\"))\n",
    "z = int(input(\"Berapa jumlah orang yang berusia kurang dari 6 tahun?\"))\n",
    "Harga_Dewasa = x * 110000\n",
    "Harga_Anakanak = y * 75000\n",
    "Harga_Balita = z * 0\n",
    "Harga_Total = Harga_Dewasa + Harga_Anakanak + Harga_Balita\n",
    "Diskon = 0.2 * Harga_Total\n",
    "if (x+y) > 2:\n",
    "    print(\"Anda Mendapat Diskon Promo RAMADHAN\")\n",
    "    print(\"Jumlah harga tiket masuk anda = Rp\", (Harga_Total - Diskon) )\n",
    "else:\n",
    "    print (\"Jumlah harga tiket masuk anda = Rp\", Harga_Total)\n"
   ]
  },
  {
   "attachments": {},
   "cell_type": "markdown",
   "metadata": {},
   "source": [
    "## 3. "
   ]
  },
  {
   "attachments": {},
   "cell_type": "markdown",
   "metadata": {},
   "source": [
    "diberikan list aslab sebagai berikut:\n",
    "```python\n",
    "list_aslab = [\n",
    "    {\"nama\": \"Berlian Safri Prakoso\", \"nim\": \"I0320017\", \"kontak\": \"0858XXXXXXXX\"},\n",
    "    {\"nama\": \"Halidya Siti Hanifah\", \"nim\": \"I0320044\", \"kontak\": \"0878XXXXXXXX\"},\n",
    "    {\"nama\": \"Nurki Putra Mahardika\", \"nim\": \"I0320076\", \"kontak\": \"0877XXXXXXXX\"},\n",
    "    {\"nama\": \"Aji Manarul Aziz\", \"nim\": \"I0320119\", \"kontak\": \"0812XXXXXXXX\"},\n",
    "    {\"nama\": \"Alica Ayu Fitriani\", \"nim\": \"I0320121\", \"kontak\": \"0896XXXXXXXX\"},\n",
    "    {\"nama\": \"Dendy Halim Kusuma\", \"nim\": \"I0320125\", \"kontak\": \"0822XXXXXXXX\"}\n",
    "]\n",
    "```\n",
    "* **A** Tuliskan kode untuk mengakses informasi tentang \"nama\" dari semua aslab mulai dari index 1 sampai 5\n",
    "* **B** Tambahkan informasi berikut pada data aslab dan tampilkan hasilnya:\n",
    "```python\n",
    "    surel = [\"berlian@student.uns.ac.id\",\n",
    "          \"halidya@student.uns.ac.id\",\n",
    "          \"nurki@student.uns.ac.id\",\n",
    "          \"manarul@student.uns.ac.id\",\n",
    "          \"alica@student.uns.ac.id\",\n",
    "          \"dendy@student.uns.ac.id\"]\n",
    "```\n",
    "* **C** Hapus nilai pada kunci \"kontak\" pada list aslab dan tampilkan hasilnya\n",
    "> *note: kalian hanya boleh menggunakan key-value pair yang disebutkan di dalam teks, tanpa menggunakan informasi tambahan yang diambil pada list yang ada*"
   ]
  },
  {
   "cell_type": "code",
   "execution_count": 67,
   "metadata": {},
   "outputs": [
    {
     "name": "stdout",
     "output_type": "stream",
     "text": [
      "Halidya Siti Hanifah\n",
      "Nurki Putra Mahardika\n",
      "Aji Manarul Aziz\n",
      "Alica Ayu Fitriani\n",
      "Dendy Halim Kusuma\n"
     ]
    }
   ],
   "source": [
    "# A. Code mengakses informasi nama pada list_aslab\n",
    "list_aslab = [\n",
    "    {\"nama\": \"Berlian Safri Prakoso\", \"nim\": \"I0320017\", \"kontak\": \"0858XXXXXXXX\"},\n",
    "    {\"nama\": \"Halidya Siti Hanifah\", \"nim\": \"I0320044\", \"kontak\": \"0878XXXXXXXX\"},\n",
    "    {\"nama\": \"Nurki Putra Mahardika\", \"nim\": \"I0320076\", \"kontak\": \"0877XXXXXXXX\"},\n",
    "    {\"nama\": \"Aji Manarul Aziz\", \"nim\": \"I0320119\", \"kontak\": \"0812XXXXXXXX\"},\n",
    "    {\"nama\": \"Alica Ayu Fitriani\", \"nim\": \"I0320121\", \"kontak\": \"0896XXXXXXXX\"},\n",
    "    {\"nama\": \"Dendy Halim Kusuma\", \"nim\": \"I0320125\", \"kontak\": \"0822XXXXXXXX\"}\n",
    "]\n",
    "for a in list_aslab[1:]:\n",
    "    print (a['nama'])"
   ]
  },
  {
   "cell_type": "code",
   "execution_count": 76,
   "metadata": {},
   "outputs": [],
   "source": [
    "# B. Menambahkan informasi \n",
    "list_aslab = [\n",
    "    {\"nama\": \"Berlian Safri Prakoso\", \"nim\": \"I0320017\", \"kontak\": \"0858XXXXXXXX\"},\n",
    "    {\"nama\": \"Halidya Siti Hanifah\", \"nim\": \"I0320044\", \"kontak\": \"0878XXXXXXXX\"},\n",
    "    {\"nama\": \"Nurki Putra Mahardika\", \"nim\": \"I0320076\", \"kontak\": \"0877XXXXXXXX\"},\n",
    "    {\"nama\": \"Aji Manarul Aziz\", \"nim\": \"I0320119\", \"kontak\": \"0812XXXXXXXX\"},\n",
    "    {\"nama\": \"Alica Ayu Fitriani\", \"nim\": \"I0320121\", \"kontak\": \"0896XXXXXXXX\"},\n",
    "    {\"nama\": \"Dendy Halim Kusuma\", \"nim\": \"I0320125\", \"kontak\": \"0822XXXXXXXX\"}]\n",
    "surel = [\"berlian@student.uns.ac.id\",\n",
    "          \"halidya@student.uns.ac.id\",\n",
    "          \"nurki@student.uns.ac.id\",\n",
    "          \"manarul@student.uns.ac.id\",\n",
    "          \"alica@student.uns.ac.id\",\n",
    "          \"dendy@student.uns.ac.id\"]\n",
    "list_aslab.append(surel)\n",
    "print(list_aslab)"
   ]
  },
  {
   "cell_type": "code",
   "execution_count": 88,
   "metadata": {},
   "outputs": [
    {
     "name": "stdout",
     "output_type": "stream",
     "text": [
      "[{'nama': 'Berlian Safri Prakoso', 'nim': 'I0320017'}, {'nama': 'Halidya Siti Hanifah', 'nim': 'I0320044'}, {'nama': 'Nurki Putra Mahardika', 'nim': 'I0320076'}, {'nama': 'Aji Manarul Aziz', 'nim': 'I0320119'}, {'nama': 'Alica Ayu Fitriani', 'nim': 'I0320121'}, {'nama': 'Dendy Halim Kusuma', 'nim': 'I0320125'}]\n"
     ]
    }
   ],
   "source": [
    "# C. Menghapus nilai\n",
    "list_aslab = [\n",
    "    {\"nama\": \"Berlian Safri Prakoso\", \"nim\": \"I0320017\", \"kontak\": \"0858XXXXXXXX\"},\n",
    "    {\"nama\": \"Halidya Siti Hanifah\", \"nim\": \"I0320044\", \"kontak\": \"0878XXXXXXXX\"},\n",
    "    {\"nama\": \"Nurki Putra Mahardika\", \"nim\": \"I0320076\", \"kontak\": \"0877XXXXXXXX\"},\n",
    "    {\"nama\": \"Aji Manarul Aziz\", \"nim\": \"I0320119\", \"kontak\": \"0812XXXXXXXX\"},\n",
    "    {\"nama\": \"Alica Ayu Fitriani\", \"nim\": \"I0320121\", \"kontak\": \"0896XXXXXXXX\"},\n",
    "    {\"nama\": \"Dendy Halim Kusuma\", \"nim\": \"I0320125\", \"kontak\": \"0822XXXXXXXX\"}]\n",
    "for a in list_aslab:\n",
    "    del a['kontak']\n",
    "print(list_aslab)"
   ]
  }
 ],
 "metadata": {
  "kernelspec": {
   "display_name": "Python 3",
   "language": "python",
   "name": "python3"
  },
  "language_info": {
   "codemirror_mode": {
    "name": "ipython",
    "version": 3
   },
   "file_extension": ".py",
   "mimetype": "text/x-python",
   "name": "python",
   "nbconvert_exporter": "python",
   "pygments_lexer": "ipython3",
   "version": "3.10.8"
  },
  "orig_nbformat": 4,
  "vscode": {
   "interpreter": {
    "hash": "5addf786bcd861d1ce5006f23111f8cbb206731e5b61b0a5632ba9e0252558a8"
   }
  }
 },
 "nbformat": 4,
 "nbformat_minor": 2
}
